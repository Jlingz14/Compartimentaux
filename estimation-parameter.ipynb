{
 "cells": [
  {
   "cell_type": "code",
   "execution_count": 4,
   "metadata": {},
   "outputs": [],
   "source": [
    "import pandas as pd\n",
    "import numpy as np\n",
    "import matplotlib.pyplot as plt\n",
    "from scipy import integrate, optimize\n",
    "import warnings\n",
    "warnings.filterwarnings('ignore')\n",
    "import seaborn as sns\n",
    "sns.set_style(\"whitegrid\") "
   ]
  },
  {
   "cell_type": "code",
   "execution_count": 25,
   "metadata": {},
   "outputs": [],
   "source": [
    "data = pd.read_csv(\"full_grouped.csv\")\n",
    "data.rename(columns={'New cases':'New_cases'},inplace=True)\n",
    "data.rename(columns={'New deaths':'New_deaths'},inplace=True)\n",
    "data.rename(columns={'New recovered':'New_recovered'},inplace=True)\n",
    "\n",
    "data_df = pd.DataFrame()\n",
    "data_df['Confirmé'] = data.loc[data['Country/Region']=='Spain'].New_cases\n",
    "data_df['Guerri'] = data.loc[data['Country/Region']=='Spain'].Recovered\n",
    "data_df['mor'] = data.loc[data['Country/Region']=='Spain'].Deaths\n",
    "\n",
    "data_df = data_df[10:70]\n",
    "data_df['day_count'] = list(range(1,len(data_df)+1))\n",
    "\n",
    "ydata = [i for i in data_df.Confirmé]\n",
    "ydata1 = [i for i in data_df.Guerri]\n",
    "ydata2 = [i for i in data_df.mor]\n",
    "\n",
    "xdata = data_df.day_count\n",
    "y = np.array(ydata, dtype=float)\n",
    "y1 = np.array(ydata1, dtype=float)\n",
    "y2 = np.array(ydata2, dtype=float)\n",
    "x = np.array(xdata, dtype=float)"
   ]
  },
  {
   "cell_type": "code",
   "execution_count": 26,
   "metadata": {},
   "outputs": [
    {
     "data": {
      "text/html": [
       "<div>\n",
       "<style scoped>\n",
       "    .dataframe tbody tr th:only-of-type {\n",
       "        vertical-align: middle;\n",
       "    }\n",
       "\n",
       "    .dataframe tbody tr th {\n",
       "        vertical-align: top;\n",
       "    }\n",
       "\n",
       "    .dataframe thead th {\n",
       "        text-align: right;\n",
       "    }\n",
       "</style>\n",
       "<table border=\"1\" class=\"dataframe\">\n",
       "  <thead>\n",
       "    <tr style=\"text-align: right;\">\n",
       "      <th></th>\n",
       "      <th>Confirmé</th>\n",
       "      <th>Guerri</th>\n",
       "      <th>mor</th>\n",
       "      <th>day_count</th>\n",
       "    </tr>\n",
       "  </thead>\n",
       "  <tbody>\n",
       "    <tr>\n",
       "      <th>2027</th>\n",
       "      <td>1</td>\n",
       "      <td>0</td>\n",
       "      <td>0</td>\n",
       "      <td>1</td>\n",
       "    </tr>\n",
       "    <tr>\n",
       "      <th>2214</th>\n",
       "      <td>0</td>\n",
       "      <td>0</td>\n",
       "      <td>0</td>\n",
       "      <td>2</td>\n",
       "    </tr>\n",
       "    <tr>\n",
       "      <th>2401</th>\n",
       "      <td>0</td>\n",
       "      <td>0</td>\n",
       "      <td>0</td>\n",
       "      <td>3</td>\n",
       "    </tr>\n",
       "    <tr>\n",
       "      <th>2588</th>\n",
       "      <td>0</td>\n",
       "      <td>0</td>\n",
       "      <td>0</td>\n",
       "      <td>4</td>\n",
       "    </tr>\n",
       "    <tr>\n",
       "      <th>2775</th>\n",
       "      <td>0</td>\n",
       "      <td>0</td>\n",
       "      <td>0</td>\n",
       "      <td>5</td>\n",
       "    </tr>\n",
       "  </tbody>\n",
       "</table>\n",
       "</div>"
      ],
      "text/plain": [
       "      Confirmé  Guerri  mor  day_count\n",
       "2027         1       0    0          1\n",
       "2214         0       0    0          2\n",
       "2401         0       0    0          3\n",
       "2588         0       0    0          4\n",
       "2775         0       0    0          5"
      ]
     },
     "execution_count": 26,
     "metadata": {},
     "output_type": "execute_result"
    }
   ],
   "source": [
    "data_df.head()"
   ]
  },
  {
   "cell_type": "code",
   "execution_count": 27,
   "metadata": {},
   "outputs": [],
   "source": [
    "population = float(46094000 )\n",
    "N = population\n",
    "inf0 = ydata[0]\n",
    "sus0 = N - inf0\n",
    "rec0 = 0.0\n",
    "mor0 = 0.0"
   ]
  },
  {
   "cell_type": "code",
   "execution_count": 28,
   "metadata": {},
   "outputs": [
    {
     "name": "stdout",
     "output_type": "stream",
     "text": [
      "Optimal parameters: beta = 9.534609190745046  gamma =  9.356150457322576\n"
     ]
    }
   ],
   "source": [
    "def sir_model(y, x, beta, gamma):\n",
    "    S,I,R = y\n",
    "    sus = -beta * S * I/ N\n",
    "    inf = (beta * S * I/ N) - (gamma* I)\n",
    "    rec = gamma* I\n",
    "    \n",
    "    return sus, inf, rec\n",
    "\n",
    "def fit_odeint(x, beta, gamma):\n",
    "    return integrate.odeint(sir_model, (sus0, inf0, rec0), x, args=(beta, gamma))[:,1]\n",
    "\n",
    "popt, pcov = optimize.curve_fit(fit_odeint, x, y)\n",
    "\n",
    "fitted = fit_odeint(xdata, *popt)\n",
    "print(\"Optimal parameters: beta =\", popt[0], \" gamma = \", popt[1])"
   ]
  },
  {
   "cell_type": "code",
   "execution_count": 29,
   "metadata": {},
   "outputs": [
    {
     "data": {
      "text/plain": [
       "<matplotlib.legend.Legend at 0x7f7d50ffb790>"
      ]
     },
     "execution_count": 29,
     "metadata": {},
     "output_type": "execute_result"
    },
    {
     "data": {
      "image/png": "[encoded data removed]",
      "text/plain": [
       "<Figure size 576x288 with 1 Axes>"
      ]
     },
     "metadata": {},
     "output_type": "display_data"
    }
   ],
   "source": [
    "plt.figure(figsize=(8,4))\n",
    "plt.plot(x, y, 'o',label='Donnée réel cas confirmé')\n",
    "plt.plot(x, fitted,c='r',label='Estimation')\n",
    "plt.xlabel('Jours')\n",
    "plt.ylabel('Population')\n",
    "plt.title('Optimal parameters: alpha = {0:.4f}  et gamma = {1:.4f}'.format(popt[0],popt[1]))\n",
    "plt.legend()"
   ]
  },
  {
   "cell_type": "code",
   "execution_count": 30,
   "metadata": {},
   "outputs": [
    {
     "data": {
      "text/html": [
       "<div>\n",
       "<style scoped>\n",
       "    .dataframe tbody tr th:only-of-type {\n",
       "        vertical-align: middle;\n",
       "    }\n",
       "\n",
       "    .dataframe tbody tr th {\n",
       "        vertical-align: top;\n",
       "    }\n",
       "\n",
       "    .dataframe thead th {\n",
       "        text-align: right;\n",
       "    }\n",
       "</style>\n",
       "<table border=\"1\" class=\"dataframe\">\n",
       "  <thead>\n",
       "    <tr style=\"text-align: right;\">\n",
       "      <th></th>\n",
       "      <th>Region</th>\n",
       "      <th>Lat</th>\n",
       "      <th>Long</th>\n",
       "      <th>dated</th>\n",
       "      <th>new_case</th>\n",
       "      <th>cured_case</th>\n",
       "      <th>death_case</th>\n",
       "      <th>Confirmed</th>\n",
       "      <th>Cured</th>\n",
       "      <th>Death</th>\n",
       "    </tr>\n",
       "  </thead>\n",
       "  <tbody>\n",
       "    <tr>\n",
       "      <th>0</th>\n",
       "      <td>Analamanga</td>\n",
       "      <td>-18.93333</td>\n",
       "      <td>47.516665</td>\n",
       "      <td>2020-03-20</td>\n",
       "      <td>3</td>\n",
       "      <td>0</td>\n",
       "      <td>0</td>\n",
       "      <td>3</td>\n",
       "      <td>0</td>\n",
       "      <td>0</td>\n",
       "    </tr>\n",
       "    <tr>\n",
       "      <th>1</th>\n",
       "      <td>Analamanga</td>\n",
       "      <td>-18.93333</td>\n",
       "      <td>47.516665</td>\n",
       "      <td>2020-03-21</td>\n",
       "      <td>0</td>\n",
       "      <td>0</td>\n",
       "      <td>0</td>\n",
       "      <td>3</td>\n",
       "      <td>0</td>\n",
       "      <td>0</td>\n",
       "    </tr>\n",
       "    <tr>\n",
       "      <th>2</th>\n",
       "      <td>Analamanga</td>\n",
       "      <td>-18.93333</td>\n",
       "      <td>47.516665</td>\n",
       "      <td>2020-03-22</td>\n",
       "      <td>0</td>\n",
       "      <td>0</td>\n",
       "      <td>0</td>\n",
       "      <td>3</td>\n",
       "      <td>0</td>\n",
       "      <td>0</td>\n",
       "    </tr>\n",
       "    <tr>\n",
       "      <th>3</th>\n",
       "      <td>Analamanga</td>\n",
       "      <td>-18.93333</td>\n",
       "      <td>47.516665</td>\n",
       "      <td>2020-03-23</td>\n",
       "      <td>9</td>\n",
       "      <td>0</td>\n",
       "      <td>0</td>\n",
       "      <td>12</td>\n",
       "      <td>0</td>\n",
       "      <td>0</td>\n",
       "    </tr>\n",
       "    <tr>\n",
       "      <th>4</th>\n",
       "      <td>Analamanga</td>\n",
       "      <td>-18.93333</td>\n",
       "      <td>47.516665</td>\n",
       "      <td>2020-03-24</td>\n",
       "      <td>5</td>\n",
       "      <td>0</td>\n",
       "      <td>0</td>\n",
       "      <td>17</td>\n",
       "      <td>0</td>\n",
       "      <td>0</td>\n",
       "    </tr>\n",
       "  </tbody>\n",
       "</table>\n",
       "</div>"
      ],
      "text/plain": [
       "       Region       Lat       Long       dated  new_case  cured_case  \\\n",
       "0  Analamanga -18.93333  47.516665  2020-03-20         3           0   \n",
       "1  Analamanga -18.93333  47.516665  2020-03-21         0           0   \n",
       "2  Analamanga -18.93333  47.516665  2020-03-22         0           0   \n",
       "3  Analamanga -18.93333  47.516665  2020-03-23         9           0   \n",
       "4  Analamanga -18.93333  47.516665  2020-03-24         5           0   \n",
       "\n",
       "   death_case  Confirmed  Cured  Death  \n",
       "0           0          3      0      0  \n",
       "1           0          3      0      0  \n",
       "2           0          3      0      0  \n",
       "3           0         12      0      0  \n",
       "4           0         17      0      0  "
      ]
     },
     "execution_count": 30,
     "metadata": {},
     "output_type": "execute_result"
    }
   ],
   "source": [
    "df = pd.read_csv('Mada-COVID.csv')\n",
    "df.head()"
   ]
  },
  {
   "cell_type": "code",
   "execution_count": 39,
   "metadata": {},
   "outputs": [],
   "source": [
    "mada_df = pd.DataFrame()\n",
    "mada_df['Date'] = df.dated.unique()\n",
    "mada_df['Cas_journalier'] = df.groupby('dated').agg({'Confirmed':['sum']}).values\n",
    "mada_df['Guerrison_journalier'] = df.groupby('dated').agg({'cured_case':['sum']}).values\n",
    "mada_df['Mort_journalier'] = df.groupby('dated').agg({'death_case':['sum']}).values\n",
    "mada_df['Cas_cumuler'] = df.groupby('dated').agg({'Confirmed':['mean']}).values\n",
    "mada_df['Guerrison_cumuler'] = df.groupby('dated').agg({'Cured':['mean']}).values\n",
    "mada_df['Mort_cumuler'] = df.groupby('dated').agg({'Death':['mean']}).values\n",
    "mada_df = mada_df.set_index('Date')\n",
    "mada_df = mada_df[60:]\n",
    "\n",
    "mada_df['day_count'] = list(range(1,len(mada_df)+1))\n",
    "\n",
    "ydata = [i for i in mada_df.Cas_journalier]\n",
    "ydata1 = [i for i in mada_df.Guerrison_cumuler]\n",
    "ydata2 = [i for i in mada_df.Mort_cumuler]\n",
    "\n",
    "xdata = mada_df.day_count\n",
    "y = np.array(ydata, dtype=float)\n",
    "y1 = np.array(ydata1, dtype=float)\n",
    "y2 = np.array(ydata2, dtype=float)\n",
    "x = np.array(xdata, dtype=float)"
   ]
  },
  {
   "cell_type": "code",
   "execution_count": 40,
   "metadata": {},
   "outputs": [],
   "source": [
    "population = float(3600000)\n",
    "N = population\n",
    "inf0 = ydata[0]\n",
    "sus0 = N - inf0\n",
    "rec0 = 0.0\n",
    "mor0 = 0.0"
   ]
  },
  {
   "cell_type": "code",
   "execution_count": 41,
   "metadata": {},
   "outputs": [
    {
     "name": "stdout",
     "output_type": "stream",
     "text": [
      "Optimal parameters: beta = 0.2379303246408184  gamma =  0.1648167400109277\n"
     ]
    }
   ],
   "source": [
    "def sir_model(y, x, beta, gamma):\n",
    "    S,I,R = y\n",
    "    sus = -beta * S * I/ N\n",
    "    inf = (beta * S * I/ N) - (gamma* I)\n",
    "    rec = gamma* I\n",
    "    \n",
    "    return sus, inf, rec\n",
    "\n",
    "def fit_odeint(x, beta, gamma):\n",
    "    return integrate.odeint(sir_model, (sus0, inf0, rec0), x, args=(beta, gamma))[:,1]\n",
    "\n",
    "popt, pcov = optimize.curve_fit(fit_odeint, x, y)\n",
    "\n",
    "fitted = fit_odeint(xdata, *popt)\n",
    "print(\"Optimal parameters: beta =\", popt[0], \" gamma = \", popt[1])"
   ]
  },
  {
   "cell_type": "code",
   "execution_count": 42,
   "metadata": {},
   "outputs": [
    {
     "data": {
      "text/plain": [
       "<matplotlib.legend.Legend at 0x7f7d50c0cc90>"
      ]
     },
     "execution_count": 42,
     "metadata": {},
     "output_type": "execute_result"
    },
    {
     "data": {
      "image/png": "[encoded data removed]",
      "text/plain": [
       "<Figure size 720x288 with 1 Axes>"
      ]
     },
     "metadata": {},
     "output_type": "display_data"
    }
   ],
   "source": [
    "plt.figure(figsize=(10,4))\n",
    "plt.plot(x, y, 'o',label='Donnée réel cas confirmé')\n",
    "plt.plot(x, fitted,c='r',label='Estimation')\n",
    "plt.xlabel('Jours')\n",
    "plt.ylabel('Population')\n",
    "plt.title('Optimal parameters: beta = {0:.4f}  et gamma = {1:.4f}'.format(popt[0],popt[1]))\n",
    "plt.legend()"
   ]
  },
  {
   "cell_type": "code",
   "execution_count": 46,
   "metadata": {},
   "outputs": [
    {
     "data": {
      "text/html": [
       "<div>\n",
       "<style scoped>\n",
       "    .dataframe tbody tr th:only-of-type {\n",
       "        vertical-align: middle;\n",
       "    }\n",
       "\n",
       "    .dataframe tbody tr th {\n",
       "        vertical-align: top;\n",
       "    }\n",
       "\n",
       "    .dataframe thead th {\n",
       "        text-align: right;\n",
       "    }\n",
       "</style>\n",
       "<table border=\"1\" class=\"dataframe\">\n",
       "  <thead>\n",
       "    <tr style=\"text-align: right;\">\n",
       "      <th></th>\n",
       "      <th>Region</th>\n",
       "      <th>Lat</th>\n",
       "      <th>Long</th>\n",
       "      <th>dated</th>\n",
       "      <th>new_case</th>\n",
       "      <th>cured_case</th>\n",
       "      <th>death_case</th>\n",
       "      <th>Confirmed</th>\n",
       "      <th>Cured</th>\n",
       "      <th>Death</th>\n",
       "    </tr>\n",
       "  </thead>\n",
       "  <tbody>\n",
       "    <tr>\n",
       "      <th>0</th>\n",
       "      <td>Analamanga</td>\n",
       "      <td>-18.93333</td>\n",
       "      <td>47.516665</td>\n",
       "      <td>2020-03-20</td>\n",
       "      <td>3</td>\n",
       "      <td>0</td>\n",
       "      <td>0</td>\n",
       "      <td>3</td>\n",
       "      <td>0</td>\n",
       "      <td>0</td>\n",
       "    </tr>\n",
       "    <tr>\n",
       "      <th>1</th>\n",
       "      <td>Analamanga</td>\n",
       "      <td>-18.93333</td>\n",
       "      <td>47.516665</td>\n",
       "      <td>2020-03-21</td>\n",
       "      <td>0</td>\n",
       "      <td>0</td>\n",
       "      <td>0</td>\n",
       "      <td>3</td>\n",
       "      <td>0</td>\n",
       "      <td>0</td>\n",
       "    </tr>\n",
       "    <tr>\n",
       "      <th>2</th>\n",
       "      <td>Analamanga</td>\n",
       "      <td>-18.93333</td>\n",
       "      <td>47.516665</td>\n",
       "      <td>2020-03-22</td>\n",
       "      <td>0</td>\n",
       "      <td>0</td>\n",
       "      <td>0</td>\n",
       "      <td>3</td>\n",
       "      <td>0</td>\n",
       "      <td>0</td>\n",
       "    </tr>\n",
       "    <tr>\n",
       "      <th>3</th>\n",
       "      <td>Analamanga</td>\n",
       "      <td>-18.93333</td>\n",
       "      <td>47.516665</td>\n",
       "      <td>2020-03-23</td>\n",
       "      <td>9</td>\n",
       "      <td>0</td>\n",
       "      <td>0</td>\n",
       "      <td>12</td>\n",
       "      <td>0</td>\n",
       "      <td>0</td>\n",
       "    </tr>\n",
       "    <tr>\n",
       "      <th>4</th>\n",
       "      <td>Analamanga</td>\n",
       "      <td>-18.93333</td>\n",
       "      <td>47.516665</td>\n",
       "      <td>2020-03-24</td>\n",
       "      <td>5</td>\n",
       "      <td>0</td>\n",
       "      <td>0</td>\n",
       "      <td>17</td>\n",
       "      <td>0</td>\n",
       "      <td>0</td>\n",
       "    </tr>\n",
       "    <tr>\n",
       "      <th>...</th>\n",
       "      <td>...</td>\n",
       "      <td>...</td>\n",
       "      <td>...</td>\n",
       "      <td>...</td>\n",
       "      <td>...</td>\n",
       "      <td>...</td>\n",
       "      <td>...</td>\n",
       "      <td>...</td>\n",
       "      <td>...</td>\n",
       "      <td>...</td>\n",
       "    </tr>\n",
       "    <tr>\n",
       "      <th>791</th>\n",
       "      <td>Analamanga</td>\n",
       "      <td>-18.93333</td>\n",
       "      <td>47.516665</td>\n",
       "      <td>2020-08-31</td>\n",
       "      <td>15</td>\n",
       "      <td>2</td>\n",
       "      <td>0</td>\n",
       "      <td>15807</td>\n",
       "      <td>13832</td>\n",
       "      <td>192</td>\n",
       "    </tr>\n",
       "    <tr>\n",
       "      <th>802</th>\n",
       "      <td>Analamanga</td>\n",
       "      <td>-18.93333</td>\n",
       "      <td>47.516665</td>\n",
       "      <td>2020-09-01</td>\n",
       "      <td>37</td>\n",
       "      <td>6</td>\n",
       "      <td>1</td>\n",
       "      <td>15901</td>\n",
       "      <td>13915</td>\n",
       "      <td>195</td>\n",
       "    </tr>\n",
       "    <tr>\n",
       "      <th>815</th>\n",
       "      <td>Analamanga</td>\n",
       "      <td>-18.93333</td>\n",
       "      <td>47.516665</td>\n",
       "      <td>2020-09-02</td>\n",
       "      <td>39</td>\n",
       "      <td>9</td>\n",
       "      <td>1</td>\n",
       "      <td>15967</td>\n",
       "      <td>13965</td>\n",
       "      <td>196</td>\n",
       "    </tr>\n",
       "    <tr>\n",
       "      <th>829</th>\n",
       "      <td>Analamanga</td>\n",
       "      <td>-18.93333</td>\n",
       "      <td>47.516665</td>\n",
       "      <td>2020-09-03</td>\n",
       "      <td>35</td>\n",
       "      <td>66</td>\n",
       "      <td>1</td>\n",
       "      <td>16050</td>\n",
       "      <td>14031</td>\n",
       "      <td>197</td>\n",
       "    </tr>\n",
       "    <tr>\n",
       "      <th>840</th>\n",
       "      <td>Analamanga</td>\n",
       "      <td>-18.93333</td>\n",
       "      <td>47.516665</td>\n",
       "      <td>2020-09-04</td>\n",
       "      <td>50</td>\n",
       "      <td>44</td>\n",
       "      <td>1</td>\n",
       "      <td>16131</td>\n",
       "      <td>14075</td>\n",
       "      <td>198</td>\n",
       "    </tr>\n",
       "  </tbody>\n",
       "</table>\n",
       "<p>148 rows × 10 columns</p>\n",
       "</div>"
      ],
      "text/plain": [
       "         Region       Lat       Long       dated  new_case  cured_case  \\\n",
       "0    Analamanga -18.93333  47.516665  2020-03-20         3           0   \n",
       "1    Analamanga -18.93333  47.516665  2020-03-21         0           0   \n",
       "2    Analamanga -18.93333  47.516665  2020-03-22         0           0   \n",
       "3    Analamanga -18.93333  47.516665  2020-03-23         9           0   \n",
       "4    Analamanga -18.93333  47.516665  2020-03-24         5           0   \n",
       "..          ...       ...        ...         ...       ...         ...   \n",
       "791  Analamanga -18.93333  47.516665  2020-08-31        15           2   \n",
       "802  Analamanga -18.93333  47.516665  2020-09-01        37           6   \n",
       "815  Analamanga -18.93333  47.516665  2020-09-02        39           9   \n",
       "829  Analamanga -18.93333  47.516665  2020-09-03        35          66   \n",
       "840  Analamanga -18.93333  47.516665  2020-09-04        50          44   \n",
       "\n",
       "     death_case  Confirmed  Cured  Death  \n",
       "0             0          3      0      0  \n",
       "1             0          3      0      0  \n",
       "2             0          3      0      0  \n",
       "3             0         12      0      0  \n",
       "4             0         17      0      0  \n",
       "..          ...        ...    ...    ...  \n",
       "791           0      15807  13832    192  \n",
       "802           1      15901  13915    195  \n",
       "815           1      15967  13965    196  \n",
       "829           1      16050  14031    197  \n",
       "840           1      16131  14075    198  \n",
       "\n",
       "[148 rows x 10 columns]"
      ]
     },
     "execution_count": 46,
     "metadata": {},
     "output_type": "execute_result"
    }
   ],
   "source": [
    "df_tana"
   ]
  },
  {
   "cell_type": "code",
   "execution_count": 63,
   "metadata": {},
   "outputs": [],
   "source": [
    "df_tana = df[df['Region']=='Analamanga']\n",
    "df_tamaga = df[df['Region']=='Atsinanana']\n",
    "\n",
    "tana_df = pd.DataFrame()\n",
    "tana_df['date'] = df_tana.dated.unique()\n",
    "tana_df['Cas_journalier'] = df_tana.groupby('dated').agg({'new_case':['sum']}).values\n",
    "tana_df['Mort_cumuler'] = df_tana.groupby('dated').agg({'death_case':['sum']}).cumsum().values\n",
    "tana_df = tana_df.set_index('date')\n",
    "tana_df = tana_df[40:120]\n",
    "\n",
    "tana_df['day_count'] = list(range(1,len(tana_df)+1))\n",
    "\n",
    "ydata = [i for i in tana_df.Cas_journalier]\n",
    "ydata1 = [i for i in tana_df.Mort_cumuler]\n",
    "\n",
    "xdata = tana_df.day_count\n",
    "y = np.array(ydata, dtype=float)\n",
    "y1 = np.array(ydata1, dtype=float)\n",
    "x = np.array(xdata, dtype=float)"
   ]
  },
  {
   "cell_type": "code",
   "execution_count": 98,
   "metadata": {},
   "outputs": [],
   "source": [
    "population = float(3600000)\n",
    "N = population\n",
    "inf0 = ydata[0]\n",
    "sus0 = N - inf0\n",
    "rec0 = 0.0\n",
    "mor0 = 0.0"
   ]
  },
  {
   "cell_type": "code",
   "execution_count": 99,
   "metadata": {},
   "outputs": [
    {
     "name": "stdout",
     "output_type": "stream",
     "text": [
      "Optimal parameters: beta = 1.636797395331651  gamma =  1.570638165822446\n"
     ]
    }
   ],
   "source": [
    "def sir_model(y, x, beta, gamma):\n",
    "    S,I,R = y\n",
    "    sus = -beta * S * I/ N\n",
    "    inf = (beta * S * I/ N) - (gamma* I)\n",
    "    rec = gamma* I\n",
    "    \n",
    "    return sus, inf, rec\n",
    "\n",
    "def fit_odeint(x, beta, gamma):\n",
    "    return integrate.odeint(sir_model, (sus0, inf0, rec0), x, args=(beta, gamma))[:,1]\n",
    "\n",
    "popt, pcov = optimize.curve_fit(fit_odeint, x, y)\n",
    "\n",
    "fitted = fit_odeint(xdata, *popt)\n",
    "print(\"Optimal parameters: beta =\", popt[0], \" gamma = \", popt[1])"
   ]
  },
  {
   "cell_type": "code",
   "execution_count": 102,
   "metadata": {},
   "outputs": [
    {
     "data": {
      "text/plain": [
       "Text(0.5, 1.0, 'Optimal parameter: $\\\\beta$ = 1.6368  and $\\\\gamma$ = 1.5706 so R0 = 1.0421')"
      ]
     },
     "execution_count": 102,
     "metadata": {},
     "output_type": "execute_result"
    },
    {
     "data": {
      "image/png": "[encoded data removed]",
      "text/plain": [
       "<Figure size 720x288 with 1 Axes>"
      ]
     },
     "metadata": {},
     "output_type": "display_data"
    }
   ],
   "source": [
    "plt.figure(figsize=(10,4))\n",
    "plt.plot(x, y, '*',label='Real case data active',c='gray')\n",
    "plt.plot(x,fitted,'--',c='r',label='Fitted ODE')\n",
    "plt.xlabel('Day')\n",
    "plt.ylabel('Population')\n",
    "plt.legend()\n",
    "plt.title('Optimal parameter: '+r'$\\beta$ = {0:.4f}  and $\\gamma$ = {1:.4f} so R0 = {2:.4f}'.format(popt[0],popt[1],(popt[0]/popt[1])))\n",
    "#plt.savefig('fit.pdf')\n",
    "#plt.savefig('fit.jpg',dpi=500)"
   ]
  },
  {
   "cell_type": "code",
   "execution_count": null,
   "metadata": {},
   "outputs": [],
   "source": [
    "tamaga_df = pd.DataFrame()\n",
    "tamaga_df['Date'] = df_tamaga.Date.unique()\n",
    "tamaga_df['Cas_journalier'] = df_tamaga.groupby('Date').agg({'Nouveau_cas':['sum']}).values\n",
    "tamaga_df['Mort_cumuler'] = df_tamaga.groupby('Date').agg({'cas_mor':['sum']}).cumsum().values\n",
    "tamaga_df = tamaga_df.set_index('Date')\n",
    "\n",
    "tamaga_df['day_count'] = list(range(1,len(tamaga_df)+1))\n",
    "\n",
    "ydata = [i for i in tamaga_df.Cas_journalier]\n",
    "ydata1 = [i for i in tamaga_df.Mort_cumuler]\n",
    "\n",
    "xdata = tamaga_df.day_count\n",
    "y = np.array(ydata, dtype=float)\n",
    "y1 = np.array(ydata1, dtype=float)\n",
    "x = np.array(xdata, dtype=float)"
   ]
  },
  {
   "cell_type": "code",
   "execution_count": 74,
   "metadata": {},
   "outputs": [],
   "source": [
    "population = float(3484000)\n",
    "N = population\n",
    "inf0 = ydata[0]\n",
    "sus0 = N - inf0\n",
    "rec0 = 0.0\n",
    "mor0 = 0.0"
   ]
  },
  {
   "cell_type": "code",
   "execution_count": 75,
   "metadata": {},
   "outputs": [
    {
     "name": "stdout",
     "output_type": "stream",
     "text": [
      "Optimal parameters: beta = 1.6105265024105107  gamma =  1.5443644722987726\n"
     ]
    }
   ],
   "source": [
    "def sir_model(y, x, beta, gamma):\n",
    "    S,I,R = y\n",
    "    sus = -beta * S * I/ N\n",
    "    inf = (beta * S * I/ N) - (gamma* I)\n",
    "    rec = gamma* I\n",
    "    \n",
    "    return sus, inf, rec\n",
    "\n",
    "def fit_odeint(x, beta, gamma):\n",
    "    return integrate.odeint(sir_model, (sus0, inf0, rec0), x, args=(beta, gamma))[:,1]\n",
    "\n",
    "popt, pcov = optimize.curve_fit(fit_odeint, x, y)\n",
    "\n",
    "fitted = fit_odeint(xdata, *popt)\n",
    "print(\"Optimal parameters: beta =\", popt[0], \" gamma = \", popt[1])"
   ]
  },
  {
   "cell_type": "code",
   "execution_count": 76,
   "metadata": {},
   "outputs": [
    {
     "data": {
      "text/plain": [
       "<matplotlib.legend.Legend at 0x7f7d507fe850>"
      ]
     },
     "execution_count": 76,
     "metadata": {},
     "output_type": "execute_result"
    },
    {
     "data": {
      "image/png": "[encoded data removed]",
      "text/plain": [
       "<Figure size 720x288 with 1 Axes>"
      ]
     },
     "metadata": {},
     "output_type": "display_data"
    }
   ],
   "source": [
    "plt.figure(figsize=(10,4))\n",
    "plt.plot(x, y, 'o',label='Donnée réel cas confirmé')\n",
    "plt.plot(x, fitted,c='r',label='Estimation')\n",
    "plt.xlabel('Jours')\n",
    "plt.ylabel('Population')\n",
    "plt.title('Optimal parameters: beta = {0:.4f}  et gamma = {1:.4f}'.format(popt[0],popt[1]))\n",
    "plt.legend()"
   ]
  },
  {
   "cell_type": "code",
   "execution_count": null,
   "metadata": {},
   "outputs": [],
   "source": [
    "tamaga_df.to_csv('tamaga_df.csv')\n",
    "tana_df.to_csv('tana_df.csv') \n",
    "mada_df.to_csv('mad_df.csv')"
   ]
  },
  {
   "cell_type": "code",
   "execution_count": 95,
   "metadata": {},
   "outputs": [
    {
     "data": {
      "text/html": [
       "<div>\n",
       "<style scoped>\n",
       "    .dataframe tbody tr th:only-of-type {\n",
       "        vertical-align: middle;\n",
       "    }\n",
       "\n",
       "    .dataframe tbody tr th {\n",
       "        vertical-align: top;\n",
       "    }\n",
       "\n",
       "    .dataframe thead th {\n",
       "        text-align: right;\n",
       "    }\n",
       "</style>\n",
       "<table border=\"1\" class=\"dataframe\">\n",
       "  <thead>\n",
       "    <tr style=\"text-align: right;\">\n",
       "      <th></th>\n",
       "      <th>Date</th>\n",
       "      <th>Infected</th>\n",
       "      <th>Removed</th>\n",
       "      <th>day_count</th>\n",
       "    </tr>\n",
       "  </thead>\n",
       "  <tbody>\n",
       "    <tr>\n",
       "      <th>0</th>\n",
       "      <td>20/03/2020</td>\n",
       "      <td>3</td>\n",
       "      <td>0</td>\n",
       "      <td>1</td>\n",
       "    </tr>\n",
       "    <tr>\n",
       "      <th>1</th>\n",
       "      <td>21/03/2020</td>\n",
       "      <td>3</td>\n",
       "      <td>0</td>\n",
       "      <td>2</td>\n",
       "    </tr>\n",
       "    <tr>\n",
       "      <th>2</th>\n",
       "      <td>22/03/2020</td>\n",
       "      <td>3</td>\n",
       "      <td>0</td>\n",
       "      <td>3</td>\n",
       "    </tr>\n",
       "    <tr>\n",
       "      <th>3</th>\n",
       "      <td>23/03/2020</td>\n",
       "      <td>12</td>\n",
       "      <td>0</td>\n",
       "      <td>4</td>\n",
       "    </tr>\n",
       "    <tr>\n",
       "      <th>4</th>\n",
       "      <td>24/03/2020</td>\n",
       "      <td>17</td>\n",
       "      <td>0</td>\n",
       "      <td>5</td>\n",
       "    </tr>\n",
       "  </tbody>\n",
       "</table>\n",
       "</div>"
      ],
      "text/plain": [
       "         Date  Infected  Removed  day_count\n",
       "0  20/03/2020         3        0          1\n",
       "1  21/03/2020         3        0          2\n",
       "2  22/03/2020         3        0          3\n",
       "3  23/03/2020        12        0          4\n",
       "4  24/03/2020        17        0          5"
      ]
     },
     "execution_count": 95,
     "metadata": {},
     "output_type": "execute_result"
    }
   ],
   "source": [
    "df = pd.read_excel('Sir.xlsx')\n",
    "df.head()"
   ]
  },
  {
   "cell_type": "code",
   "execution_count": 96,
   "metadata": {},
   "outputs": [],
   "source": [
    "ydata = [i for i in df.Infected]\n",
    "xdata = df.day_count\n",
    "y = np.array(ydata, dtype=float)\n",
    "x = np.array(xdata, dtype=float)"
   ]
  },
  {
   "cell_type": "code",
   "execution_count": 37,
   "metadata": {},
   "outputs": [
    {
     "data": {
      "text/plain": [
       "Text(0.5, 1.0, 'e$\\\\alpha$')"
      ]
     },
     "execution_count": 37,
     "metadata": {},
     "output_type": "execute_result"
    },
    {
     "data": {
      "image/png": "[encoded data removed]",
      "text/plain": [
       "<Figure size 432x288 with 1 Axes>"
      ]
     },
     "metadata": {},
     "output_type": "display_data"
    }
   ],
   "source": [
    "plt.plot(y)\n",
    "plt.title('e'+r'$\\alpha$')"
   ]
  },
  {
   "cell_type": "code",
   "execution_count": 31,
   "metadata": {},
   "outputs": [
    {
     "name": "stdout",
     "output_type": "stream",
     "text": [
      "$\\alpha$\n"
     ]
    }
   ],
   "source": [
    "print"
   ]
  },
  {
   "cell_type": "code",
   "execution_count": null,
   "metadata": {},
   "outputs": [],
   "source": []
  }
 ],
 "metadata": {
  "kernelspec": {
   "display_name": "Python 3",
   "language": "python",
   "name": "python3"
  },
  "language_info": {
   "codemirror_mode": {
    "name": "ipython",
    "version": 3
   },
   "file_extension": ".py",
   "mimetype": "text/x-python",
   "name": "python",
   "nbconvert_exporter": "python",
   "pygments_lexer": "ipython3",
   "version": "3.7.6"
  }
 },
 "nbformat": 4,
 "nbformat_minor": 4
}
